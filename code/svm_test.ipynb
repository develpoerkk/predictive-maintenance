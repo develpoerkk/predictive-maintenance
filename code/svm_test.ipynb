{
 "cells": [
  {
   "cell_type": "code",
   "execution_count": 1,
   "metadata": {
    "collapsed": false
   },
   "outputs": [],
   "source": [
    "import numpy as np\n",
    "import sklearn\n",
    "import joblib\n",
    "from multiprocessing import Pool, Lock\n",
    "import time\n",
    "\n",
    "# setup for jupyter notebook\n",
    "import matplotlib.pyplot as plt\n",
    "\n",
    "# This is a bit of magic to make matplotlib figures appear inline in the\n",
    "# notebook rather than in a new window.\n",
    "%matplotlib inline\n",
    "plt.rcParams['figure.figsize'] = (6.0, 4.0) # set default size of plots\n",
    "plt.rcParams['image.interpolation'] = 'nearest'\n",
    "plt.rcParams['image.cmap'] = 'gray'\n",
    "\n",
    "# Some more magic so that the notebook will reload external python modules;\n",
    "# see http://stackoverflow.com/questions/1907993/autoreload-of-modules-in-ipython\n",
    "%load_ext autoreload\n",
    "%autoreload 2"
   ]
  },
  {
   "cell_type": "code",
   "execution_count": 26,
   "metadata": {
    "collapsed": true
   },
   "outputs": [],
   "source": [
    "# create simulation data\n",
    "num_heaters = 200\n",
    "\n",
    "zero_center = 0.9\n",
    "one_center = 1.1\n",
    "\n",
    "X1 = np.random.normal(one_center, size=(700 * num_heaters // 2, 2450)).astype(np.float32)\n",
    "X2 = np.random.normal(zero_center, size=(700 * num_heaters // 2, 2450)).astype(np.float32)\n",
    "X = np.concatenate([X1, X2], axis=0)\n",
    "y = np.concatenate([np.ones(700 * num_heaters // 2, dtype=np.int32), np.zeros(700 * num_heaters // 2, dtype=np.int32)])\n",
    "\n",
    "test_X = np.random.normal((zero_center + one_center) / 2.0, size=(1000, 2450)).astype(np.float32)\n",
    "test_X0 = np.random.normal(zero_center, size=(1000, 2450)).astype(np.float32)\n",
    "test_X1 = np.random.normal(one_center, size=(1000, 2450)).astype(np.float32)"
   ]
  },
  {
   "cell_type": "code",
   "execution_count": 31,
   "metadata": {
    "collapsed": false
   },
   "outputs": [
    {
     "name": "stdout",
     "output_type": "stream",
     "text": [
      "[LibSVM]763.381000s\n"
     ]
    },
    {
     "name": "stderr",
     "output_type": "stream",
     "text": [
      "C:\\ProgramData\\Anaconda3\\envs\\py27\\lib\\site-packages\\sklearn\\svm\\base.py:220: ConvergenceWarning: Solver terminated early (max_iter=1000).  Consider pre-processing your data with StandardScaler or MinMaxScaler.\n",
      "  % self.max_iter, ConvergenceWarning)\n"
     ]
    }
   ],
   "source": [
    "# sklearn SVC\n",
    "from sklearn.svm import SVC\n",
    "\n",
    "tic = time.time()\n",
    "svc = SVC(probability=False, class_weight={0:1, 1:10}, verbose=True, max_iter=1000)\n",
    "svc.fit(X, y)\n",
    "toc = time.time()\n",
    "print('%fs' % (toc - tic))"
   ]
  },
  {
   "cell_type": "code",
   "execution_count": 22,
   "metadata": {
    "collapsed": true
   },
   "outputs": [],
   "source": [
    "def show_test(classifier):\n",
    "\tprint(float(sum(classifier.predict(test_X))) / classifier.predict(test_X).shape[0])\n",
    "\tprint(float(sum(classifier.predict(test_X0))) / classifier.predict(test_X0).shape[0])\n",
    "\tprint(float(sum(classifier.predict(test_X1))) / classifier.predict(test_X1).shape[0])\n",
    "\n",
    "def show_acc(classifier):\n",
    "\tprint(\"class 0 acc: \", float(sum(classifier.predict(test_X0) == 0)) / classifier.predict(test_X0).shape[0])\n",
    "\tprint(\"class 1 acc: \", float(sum(classifier.predict(test_X1) == 1)) / classifier.predict(test_X1).shape[0])"
   ]
  },
  {
   "cell_type": "code",
   "execution_count": 32,
   "metadata": {
    "collapsed": false
   },
   "outputs": [
    {
     "name": "stdout",
     "output_type": "stream",
     "text": [
      "0.469\n",
      "0.0\n",
      "1.0\n",
      "('class 0 acc: ', 1.0)\n",
      "('class 1 acc: ', 1.0)\n"
     ]
    }
   ],
   "source": [
    "show_test(svc)\n",
    "show_acc(svc)"
   ]
  },
  {
   "cell_type": "code",
   "execution_count": 29,
   "metadata": {
    "collapsed": false
   },
   "outputs": [
    {
     "name": "stdout",
     "output_type": "stream",
     "text": [
      "[LibLinear]259.485000s\n"
     ]
    }
   ],
   "source": [
    "# sklearn LinearSVC\n",
    "from sklearn.svm import LinearSVC\n",
    "\n",
    "tic = time.time()\n",
    "linear_svc = LinearSVC(class_weight={0:1, 1:10}, verbose=True, max_iter=1000)\n",
    "linear_svc.fit(X, y)\n",
    "toc = time.time()\n",
    "print('%fs' % (toc - tic))"
   ]
  },
  {
   "cell_type": "code",
   "execution_count": 30,
   "metadata": {
    "collapsed": false
   },
   "outputs": [
    {
     "name": "stdout",
     "output_type": "stream",
     "text": [
      "0.48\n",
      "0.0\n",
      "1.0\n",
      "('class 0 acc: ', 1.0)\n",
      "('class 1 acc: ', 1.0)\n"
     ]
    }
   ],
   "source": [
    "show_test(linear_svc)\n",
    "show_acc(linear_svc)"
   ]
  },
  {
   "cell_type": "code",
   "execution_count": 27,
   "metadata": {
    "collapsed": false
   },
   "outputs": [
    {
     "name": "stdout",
     "output_type": "stream",
     "text": [
      "iteration 0 / 2000: loss 1.056797\n",
      "iteration 100 / 2000: loss 1.004554\n",
      "iteration 200 / 2000: loss 0.957793\n",
      "iteration 300 / 2000: loss 0.911509\n",
      "iteration 400 / 2000: loss 0.865394\n",
      "iteration 500 / 2000: loss 0.822656\n",
      "iteration 600 / 2000: loss 0.781809\n",
      "iteration 700 / 2000: loss 0.744713\n",
      "iteration 800 / 2000: loss 0.705665\n",
      "iteration 900 / 2000: loss 0.668728\n",
      "iteration 1000 / 2000: loss 0.631938\n",
      "iteration 1100 / 2000: loss 0.601613\n",
      "iteration 1200 / 2000: loss 0.567996\n",
      "iteration 1300 / 2000: loss 0.538331\n",
      "iteration 1400 / 2000: loss 0.506014\n",
      "iteration 1500 / 2000: loss 0.478984\n",
      "iteration 1600 / 2000: loss 0.444045\n",
      "iteration 1700 / 2000: loss 0.425551\n",
      "iteration 1800 / 2000: loss 0.403975\n",
      "iteration 1900 / 2000: loss 0.379378\n",
      "55.283000s\n"
     ]
    },
    {
     "data": {
      "image/png": "[encoded data removed]",
      "text/plain": [
       "<matplotlib.figure.Figure at 0x9c5afd0>"
      ]
     },
     "metadata": {},
     "output_type": "display_data"
    }
   ],
   "source": [
    "# my LinearSVC with mini-batch SGD\n",
    "from classifier_sk import LinearSVM\n",
    "\n",
    "tic = time.time()\n",
    "svc2 = LinearSVM()\n",
    "loss_hist = svc2.fit(X, y, learning_rate=1e-5, reg=1e1, num_iters=2000,\n",
    "            batch_size=2000, verbose=True)\n",
    "toc = time.time()\n",
    "print('%fs' % (toc - tic))\n",
    "\n",
    "# plot loss vs iter\n",
    "\n",
    "plt.plot(loss_hist)\n",
    "plt.xlabel('Iteration number')\n",
    "plt.ylabel('Loss value')\n",
    "plt.show()"
   ]
  },
  {
   "cell_type": "code",
   "execution_count": 28,
   "metadata": {
    "collapsed": false
   },
   "outputs": [
    {
     "name": "stdout",
     "output_type": "stream",
     "text": [
      "0.525\n",
      "0.0\n",
      "1.0\n",
      "('class 0 acc: ', 1.0)\n",
      "('class 1 acc: ', 1.0)\n"
     ]
    }
   ],
   "source": [
    "show_test(svc2)\n",
    "show_acc(svc2)"
   ]
  },
  {
   "cell_type": "code",
   "execution_count": null,
   "metadata": {
    "collapsed": true
   },
   "outputs": [],
   "source": []
  },
  {
   "cell_type": "code",
   "execution_count": null,
   "metadata": {
    "collapsed": true
   },
   "outputs": [],
   "source": []
  }
 ],
 "metadata": {
  "kernelspec": {
   "display_name": "Python 2",
   "language": "python",
   "name": "python2"
  },
  "language_info": {
   "codemirror_mode": {
    "name": "ipython",
    "version": 2
   },
   "file_extension": ".py",
   "mimetype": "text/x-python",
   "name": "python",
   "nbconvert_exporter": "python",
   "pygments_lexer": "ipython2",
   "version": "2.7.13"
  }
 },
 "nbformat": 4,
 "nbformat_minor": 2
}
