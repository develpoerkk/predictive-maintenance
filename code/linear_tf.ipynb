{
 "cells": [
  {
   "cell_type": "code",
   "execution_count": 1,
   "metadata": {},
   "outputs": [],
   "source": [
    "import os\n",
    "import numpy as np\n",
    "#import tensorflow as tf\n",
    "import time\n",
    "\n",
    "# setup for jupyter notebook\n",
    "import matplotlib.pyplot as plt\n",
    "\n",
    "# This is a bit of magic to make matplotlib figures appear inline in the\n",
    "# notebook rather than in a new window.\n",
    "%matplotlib inline\n",
    "plt.rcParams['figure.figsize'] = (6.0, 4.0) # set default size of plots\n",
    "plt.rcParams['image.interpolation'] = 'nearest'\n",
    "plt.rcParams['image.cmap'] = 'gray'\n",
    "\n",
    "# Some more magic so that the notebook will reload external python modules;\n",
    "# see http://stackoverflow.com/questions/1907993/autoreload-of-modules-in-ipython\n",
    "%load_ext autoreload\n",
    "%autoreload 2"
   ]
  },
  {
   "cell_type": "code",
   "execution_count": 2,
   "metadata": {},
   "outputs": [
    {
     "name": "stdout",
     "output_type": "stream",
     "text": [
      "[8s] loaded 35424 train records with 1734 pos days; 10404 train records and 1734 pos days after balance\n",
      "[8s] loaded 8139 test records with 369 pos days\n"
     ]
    }
   ],
   "source": [
    "# create simulation data\n",
    "FLAG_use_real_data = True\n",
    "FLAG_load_real_data = True\n",
    "FLAG_create_data = False\n",
    "FLAG_save_data = True and not FLAG_load_real_data\n",
    "FLAG_load_data = not FLAG_create_data\n",
    "\n",
    "feature_dim = 3325\n",
    "\n",
    "# total: 700 days, 500 heaters, 2450 features\n",
    "if FLAG_create_data and not FLAG_use_real_data:\n",
    "    num_heaters = 20\n",
    "\n",
    "    zero_center = -0.5\n",
    "    one_center = 0.5\n",
    "\n",
    "    X1 = np.random.normal(one_center, size=(700 * num_heaters // 2, 1)).astype(np.float32) * np.ones((700 * num_heaters // 2, feature_dim))\n",
    "    X2 = np.random.normal(zero_center, size=(700 * num_heaters // 2, 1)).astype(np.float32) * np.ones((700 * num_heaters // 2, feature_dim))\n",
    "    X = np.concatenate([X1, X2], axis=0)\n",
    "    Y = np.concatenate([np.ones(700 * num_heaters // 2, dtype=np.int32), np.zeros(700 * num_heaters // 2, dtype=np.int32)])\n",
    "\n",
    "    test_Xmix = np.random.normal((zero_center + one_center) / 2.0, size=(200, 1)).astype(np.float32) * np.ones((200, feature_dim))\n",
    "    test_X0 = np.random.normal(zero_center, size=(200, 1)).astype(np.float32) * np.ones((200, feature_dim))\n",
    "    test_X1 = np.random.normal(one_center, size=(200, 1)).astype(np.float32) * np.ones((200, feature_dim))\n",
    "    test_X = np.concatenate([test_X0, test_X1], axis=0)\n",
    "    test_Y = np.concatenate([np.zeros(200, dtype=np.int32), np.ones(200, dtype=np.int32)])\n",
    "\n",
    "    if FLAG_save_data and not FLAG_use_real_data:\n",
    "        np.savez_compressed(\"M:\\\\cs341_swap\\\\sim_200\", X, Y, test_X, test_Y, test_Xmix)\n",
    "\n",
    "if FLAG_load_data and not FLAG_use_real_data:\n",
    "    arrs = np.load(\"M:\\\\cs341_swap\\\\sim_200.npz\")\n",
    "    X, Y, test_X, test_Y, test_Xmix = arrs[\"arr_0\"], arrs[\"arr_1\"], arrs[\"arr_2\"], arrs[\"arr_3\"], arrs[\"arr_4\"]\n",
    "    \n",
    "if FLAG_use_real_data and not FLAG_load_real_data:\n",
    "    tic = time.clock()\n",
    "    train_data_raw = []\n",
    "    train_dir = \"E:\\\\cs341-project\\\\iotdata\\\\npz_feats_all\\\\train\"\n",
    "    for one_file in os.listdir(train_dir):\n",
    "        if one_file.endswith(\".feats.npz\"):\n",
    "            mat = np.load(os.path.join(train_dir, one_file))[\"arr_0\"]\n",
    "            advanced_feats = np.zeros([mat.shape[0], mat.shape[1] * 2 - 1])\n",
    "            for line_idx in range(min(10, mat.shape[0])):\n",
    "                advanced_feats[line_idx, :mat.shape[1]] = mat[line_idx, :]\n",
    "                advanced_feats[line_idx, mat.shape[1]:] = -1\n",
    "            for line_idx in range(10, mat.shape[0]):\n",
    "                advanced_feats[line_idx, :mat.shape[1]] = mat[line_idx, :]\n",
    "                advanced_feats[line_idx, mat.shape[1]:] = np.mean(mat[line_idx - 10:line_idx - 3,:], axis=0)[1:]\n",
    "                \n",
    "            #train_data_raw.append(mat)\n",
    "            train_data_raw.append(advanced_feats)\n",
    "\n",
    "    train_data = np.concatenate(train_data_raw)\n",
    "    X = train_data[:, 1:]\n",
    "    Y = (train_data[:, 0]).astype(np.int32)\n",
    "    \n",
    "    test_data_raw = []\n",
    "    test_dir = \"E:\\\\cs341-project\\\\iotdata\\\\npz_feats_all\\\\test\"\n",
    "    for one_file in os.listdir(test_dir):\n",
    "        if one_file.endswith(\".feats.npz\"):\n",
    "            mat = np.load(os.path.join(test_dir, one_file))[\"arr_0\"]\n",
    "            advanced_feats = np.zeros([mat.shape[0], mat.shape[1] * 2 - 1])\n",
    "            for line_idx in range(min(10, mat.shape[0])):\n",
    "                advanced_feats[line_idx, :mat.shape[1]] = mat[line_idx, :]\n",
    "                advanced_feats[line_idx, mat.shape[1]:] = -1\n",
    "            for line_idx in range(10, mat.shape[0]):\n",
    "                advanced_feats[line_idx, :mat.shape[1]] = mat[line_idx, :]\n",
    "                advanced_feats[line_idx, mat.shape[1]:] = np.mean(mat[line_idx - 10:line_idx - 3,:], axis=0)[1:]\n",
    "                \n",
    "            #test_data_raw.append(mat)\n",
    "            test_data_raw.append(advanced_feats)\n",
    "\n",
    "    test_data = np.concatenate(test_data_raw)\n",
    "    test_X = test_data[:, 1:]\n",
    "    test_Y = (test_data[:, 0]).astype(np.int32)\n",
    "    \n",
    "    toc = time.clock()\n",
    "    print(\"[%ds] loaded ori data done\" % (toc-tic))\n",
    "          \n",
    "    if FLAG_save_data:\n",
    "        tic = time.clock()\n",
    "        np.savez_compressed(\"M:\\\\cs341_swap\\\\adv_feats\", X, Y, test_X, test_Y)\n",
    "        toc = time.clock()\n",
    "        print(\"[%ds] saved.\" % (toc-tic))\n",
    "    \n",
    "if FLAG_use_real_data and FLAG_load_real_data:\n",
    "    tic = time.clock()\n",
    "    D = np.load(\"M:\\\\cs341_swap\\\\adv_feats.npz\")\n",
    "    X = D[\"arr_0\"]\n",
    "    Y = D[\"arr_1\"]\n",
    "    test_X = D[\"arr_2\"]\n",
    "    test_Y = D[\"arr_3\"]\n",
    "    \n",
    "    balanced_Y_pos = Y[Y == 1]\n",
    "    balanced_Y_neg = Y[Y == 0]\n",
    "    balanced_Y_neg_idx = list(range(np.sum(Y == 0)))\n",
    "    np.random.shuffle(balanced_Y_neg_idx)\n",
    "    balanced_Y_neg_idx = balanced_Y_neg_idx[:np.sum(balanced_Y_pos) * 5]\n",
    "    balanced_Y = np.concatenate([balanced_Y_pos, balanced_Y_neg[balanced_Y_neg_idx]])\n",
    "    \n",
    "    balanced_X_pox = X[Y == 1]\n",
    "    balanced_X_neg = X[Y == 0]\n",
    "    balanced_X = np.concatenate([balanced_X_pox, balanced_X_neg[balanced_Y_neg_idx]])\n",
    "    \n",
    "    balance_shuffle_idx = list(range(len(balanced_Y)))\n",
    "    np.random.shuffle(balance_shuffle_idx)\n",
    "    balanced_Y = balanced_Y[balance_shuffle_idx]\n",
    "    balanced_X = balanced_X[balance_shuffle_idx]\n",
    "    \n",
    "    toc = time.clock()\n",
    "    print(\"[%ds] loaded %d train records with %d pos days; %d train records and %d pos days after balance\" \n",
    "          % (toc-tic, len(Y), sum(Y), len(balanced_Y), sum(balanced_Y)))\n",
    "\n",
    "    print(\"[%ds] loaded %d test records with %d pos days\" % (toc-tic, len(test_Y), sum(test_Y)))"
   ]
  },
  {
   "cell_type": "code",
   "execution_count": null,
   "metadata": {},
   "outputs": [],
   "source": [
    "# tf classifier with cross entropy loss\n",
    "\n",
    "import tensorflow as tf\n",
    "from logistic_tf import LinearClassifier\n",
    "\n",
    "classifier = LinearClassifier(X.shape[1], loss_func = \"hinge\", learning_rate=1e-4, reg=1e-10)\n",
    "loss_hist = classifier.fit(balanced_X, balanced_Y, batch_size=0, num_iters=6000, verbose=True, verbose_iter=100)\n",
    "print(classifier.evaluate(balanced_X, balanced_Y))\n",
    "print(classifier.evaluate(test_X, test_Y))\n",
    "#print(classifier.predict(test_Xmix))\n",
    "print(balanced_Y, classifier.predict(balanced_X))\n",
    "pred_y = classifier.predict(test_X).astype(np.int32)\n",
    "classifier.reset()\n",
    "\n",
    "plt.plot(loss_hist)\n",
    "plt.xlabel('Iteration number')\n",
    "plt.ylabel('Loss value')\n",
    "plt.show()"
   ]
  },
  {
   "cell_type": "code",
   "execution_count": null,
   "metadata": {},
   "outputs": [],
   "source": [
    "classifier.reset()"
   ]
  },
  {
   "cell_type": "code",
   "execution_count": 28,
   "metadata": {},
   "outputs": [
    {
     "name": "stdout",
     "output_type": "stream",
     "text": [
      "[LibSVM]1539.002000s\n"
     ]
    }
   ],
   "source": [
    "# sklearn SVC\n",
    "from sklearn.svm import SVC\n",
    "\n",
    "tic = time.time()\n",
    "svc = SVC(probability=False, class_weight={0:1, 1:10}, verbose=True, max_iter=2000, C=1e-0, gamma=1e-7)\n",
    "svc.fit(X, Y)\n",
    "pred_y = svc.predict(test_X)\n",
    "toc = time.time()\n",
    "print('%fs' % (toc - tic))\n",
    "#print(svc.score(balanced_X, balanced_Y))"
   ]
  },
  {
   "cell_type": "code",
   "execution_count": 29,
   "metadata": {
    "scrolled": true
   },
   "outputs": [
    {
     "name": "stdout",
     "output_type": "stream",
     "text": [
      "[1 0 0 ..., 1 1 1]\n",
      "             precision    recall  f1-score   support\n",
      "\n",
      "          0       0.94      0.30      0.46      7770\n",
      "          1       0.04      0.56      0.07       369\n",
      "\n",
      "avg / total       0.90      0.32      0.44      8139\n",
      "\n",
      "0.433966370552\n"
     ]
    },
    {
     "data": {
      "image/png": "[encoded data removed]",
      "text/plain": [
       "<matplotlib.figure.Figure at 0x17f9c9e8>"
      ]
     },
     "metadata": {},
     "output_type": "display_data"
    }
   ],
   "source": [
    "from sklearn.metrics import classification_report, roc_auc_score, roc_curve\n",
    "\n",
    "pred_y = pred_y.astype(np.int32)\n",
    "print(pred_y)\n",
    "print(classification_report(test_Y, pred_y))\n",
    "print(roc_auc_score(test_Y, pred_y))\n",
    "fpr, tpr, thresholds = roc_curve(test_Y, pred_y)\n",
    "plt.plot(fpr, tpr)\n",
    "plt.show()"
   ]
  },
  {
   "cell_type": "code",
   "execution_count": 30,
   "metadata": {},
   "outputs": [],
   "source": [
    "pred_y = svc.predict(balanced_X)\n",
    "# pred_y = svc.predict(test_X)"
   ]
  },
  {
   "cell_type": "code",
   "execution_count": 31,
   "metadata": {},
   "outputs": [
    {
     "name": "stdout",
     "output_type": "stream",
     "text": [
      "             precision    recall  f1-score   support\n",
      "\n",
      "          0       1.00      0.37      0.54      8670\n",
      "          1       0.24      1.00      0.39      1734\n",
      "\n",
      "avg / total       0.87      0.48      0.52     10404\n",
      "\n",
      "0.685351787774\n"
     ]
    },
    {
     "data": {
      "image/png": "[encoded data removed]",
      "text/plain": [
       "<matplotlib.figure.Figure at 0x17f92320>"
      ]
     },
     "metadata": {},
     "output_type": "display_data"
    }
   ],
   "source": [
    "from sklearn.metrics import classification_report, roc_auc_score, roc_curve\n",
    "\n",
    "print(classification_report(balanced_Y, pred_y))\n",
    "print(roc_auc_score(balanced_Y, pred_y))\n",
    "fpr, tpr, thresholds = roc_curve(balanced_Y, pred_y)\n",
    "plt.plot(fpr, tpr)\n",
    "plt.show()"
   ]
  },
  {
   "cell_type": "code",
   "execution_count": 19,
   "metadata": {},
   "outputs": [
    {
     "name": "stdout",
     "output_type": "stream",
     "text": [
      "(35424L, 6650L)\n"
     ]
    }
   ],
   "source": [
    "print(X.shape)"
   ]
  },
  {
   "cell_type": "code",
   "execution_count": null,
   "metadata": {
    "collapsed": true
   },
   "outputs": [],
   "source": []
  }
 ],
 "metadata": {
  "kernelspec": {
   "display_name": "Python 2",
   "language": "python",
   "name": "python2"
  },
  "language_info": {
   "codemirror_mode": {
    "name": "ipython",
    "version": 2
   },
   "file_extension": ".py",
   "mimetype": "text/x-python",
   "name": "python",
   "nbconvert_exporter": "python",
   "pygments_lexer": "ipython2",
   "version": "2.7.13"
  }
 },
 "nbformat": 4,
 "nbformat_minor": 1
}
